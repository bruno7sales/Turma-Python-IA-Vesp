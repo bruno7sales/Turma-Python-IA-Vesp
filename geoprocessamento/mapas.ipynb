{
 "cells": [
  {
   "cell_type": "markdown",
   "metadata": {},
   "source": [
    "# **MAPAS**\n",
    "---\n",
    "\n",
    "Na aula de hoje, vamos trabalhar com **geoprocessamento**, que nada mais é do que a exibição de dados em mapas gráficos. Na célula de código abaixo, vmaos importar a biblioteca de geração de mapas geográficos. Para isso, vamos fazer uso da biblioteca **Folium**. Para usarmos, precisaremos instlá-la através do comando `pip install folium`.\n"
   ]
  },
  {
   "cell_type": "code",
   "execution_count": 1,
   "metadata": {},
   "outputs": [],
   "source": [
    "import folium\n"
   ]
  },
  {
   "cell_type": "markdown",
   "metadata": {},
   "source": [
    "Na próxima célula de código, vamos gerar um mapa e fazê-lo abrir na cidade de **Brasília - DF.**\n",
    "\n"
   ]
  },
  {
   "cell_type": "code",
   "execution_count": null,
   "metadata": {},
   "outputs": [],
   "source": [
    "mapa = folium.Map(location= [-15.7834301996, -47.899], zoom_start=13)\n",
    "display(mapa)\n"
   ]
  },
  {
   "cell_type": "markdown",
   "metadata": {},
   "source": [
    "Na proxima célula do código vamos criar marcações de lugares. \n"
   ]
  },
  {
   "cell_type": "code",
   "execution_count": null,
   "metadata": {},
   "outputs": [],
   "source": [
    "folium.Marker(location= [-15.7948, -47.91319], popup= 'SENAI - SIG', icon=folium.Icon(icon='user', color='green')).add_to(mapa)\n",
    "folium.Marker(location= [-15.7834301996, -47.899], popup= 'Estádio Nacional Mané Garrincha').add_to(mapa)\n",
    "display(mapa)"
   ]
  },
  {
   "cell_type": "code",
   "execution_count": 4,
   "metadata": {},
   "outputs": [],
   "source": [
    "#mapa.save(\"index.html\")"
   ]
  }
 ],
 "metadata": {
  "kernelspec": {
   "display_name": ".venv",
   "language": "python",
   "name": "python3"
  },
  "language_info": {
   "codemirror_mode": {
    "name": "ipython",
    "version": 3
   },
   "file_extension": ".py",
   "mimetype": "text/x-python",
   "name": "python",
   "nbconvert_exporter": "python",
   "pygments_lexer": "ipython3",
   "version": "3.12.4"
  }
 },
 "nbformat": 4,
 "nbformat_minor": 2
}
